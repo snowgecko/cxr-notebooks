{
  "cells": [
    {
      "cell_type": "code",
      "execution_count": null,
      "id": "0",
      "metadata": {
        "vscode": {
          "languageId": "plaintext"
        },
        "id": "0"
      },
      "outputs": [],
      "source": [
        "START"
      ]
    },
    {
      "cell_type": "code",
      "execution_count": 1,
      "id": "1",
      "metadata": {
        "vscode": {
          "languageId": "plaintext"
        },
        "colab": {
          "base_uri": "https://localhost:8080/"
        },
        "id": "1",
        "outputId": "bc078ba1-4031-4ee3-96cb-393b1afd63d4"
      },
      "outputs": [
        {
          "output_type": "stream",
          "name": "stdout",
          "text": [
            "\u001b[2K   \u001b[90m━━━━━━━━━━━━━━━━━━━━━━━━━━━━━━━━━━━━━━━━\u001b[0m \u001b[32m61.3/61.3 MB\u001b[0m \u001b[31m6.7 MB/s\u001b[0m eta \u001b[36m0:00:00\u001b[0m\n",
            "\u001b[2K   \u001b[90m━━━━━━━━━━━━━━━━━━━━━━━━━━━━━━━━━━━━━━━━\u001b[0m \u001b[32m2.4/2.4 MB\u001b[0m \u001b[31m38.8 MB/s\u001b[0m eta \u001b[36m0:00:00\u001b[0m\n",
            "\u001b[?25h"
          ]
        },
        {
          "output_type": "stream",
          "name": "stderr",
          "text": [
            "WARNING:pydicom:The 'pydicom.pixel_data_handlers' module will be removed in v4.0, please use 'from pydicom.pixels import apply_voi_lut' instead\n"
          ]
        },
        {
          "output_type": "stream",
          "name": "stdout",
          "text": [
            "Mounted at /content/drive\n",
            "exists: True\n"
          ]
        },
        {
          "output_type": "execute_result",
          "data": {
            "text/plain": [
              "<torch._C.Generator at 0x79445bad3dd0>"
            ]
          },
          "metadata": {},
          "execution_count": 1
        }
      ],
      "source": [
        "!pip -q install \"transformers>=4.41\" peft bitsandbytes accelerate datasets sentencepiece einops pydicom pillow\n",
        "\n",
        "import os, re, shutil, math, random\n",
        "from pathlib import Path\n",
        "\n",
        "import numpy as np\n",
        "import pandas as pd\n",
        "from PIL import Image\n",
        "\n",
        "import torch\n",
        "from datasets import Dataset\n",
        "from transformers import (\n",
        "    AutoTokenizer, AutoModelForCausalLM,\n",
        "    TrainingArguments, Trainer\n",
        ")\n",
        "from peft import LoraConfig, get_peft_model, prepare_model_for_kbit_training\n",
        "\n",
        "import pydicom\n",
        "from pydicom.pixel_data_handlers.util import apply_voi_lut\n",
        "\n"
      ]
    },
    {
      "cell_type": "code",
      "execution_count": null,
      "id": "2",
      "metadata": {
        "vscode": {
          "languageId": "plaintext"
        },
        "id": "2"
      },
      "outputs": [],
      "source": [
        "####Mount the drive\n",
        "################ attach the colab project to the google drive\n",
        "from google.colab import drive\n",
        "drive.mount('/content/drive')\n",
        "\n",
        "from pathlib import Path\n",
        "ROOT        = Path('/content/drive/MyDrive/MLProjects/foundation-models-radiology')\n",
        "DICOM_DIR   = ROOT / 'PTXHeadtoHeadSmall'   # use the exact folder name as on Drive\n",
        "IMG_DIR     = ROOT / \"chex_jpg\"                   # where we'll write JPEGs\n",
        "CSV_PATH    = ROOT / \"labels_200.csv\"             # your instruction CSV (image,question,answer)\n",
        "\n",
        "print(\"exists:\", DICOM_DIR.exists())\n"
      ]
    },
    {
      "cell_type": "code",
      "source": [
        "################ Global variables\n",
        "MODEL_NAME = \"StanfordAIMI/CheXagent-2-3b\"\n",
        "SEED = 42\n",
        "random.seed(SEED); np.random.seed(SEED); torch.manual_seed(SEED)\n",
        "\n"
      ],
      "metadata": {
        "id": "45NwAUwr8dbV"
      },
      "id": "45NwAUwr8dbV",
      "execution_count": null,
      "outputs": []
    },
    {
      "cell_type": "code",
      "source": [
        "#########DICOM to grayscale\n",
        "shutil.rmtree(IMG_DIR, ignore_errors=True)\n",
        "IMG_DIR.mkdir(parents=True, exist_ok=True)\n",
        "\n",
        "def dicom_to_jpg(dcm_path: Path, out_dir: Path) -> Path:\n",
        "    ds = pydicom.dcmread(str(dcm_path), stop_before_pixels=False)\n",
        "    arr = ds.pixel_array\n",
        "\n",
        "    # Respect VOI LUT (windowing) when present\n",
        "    try:\n",
        "        arr = apply_voi_lut(arr, ds)\n",
        "    except Exception:\n",
        "        pass\n",
        "\n",
        "    # Fix MONOCHROME1 inversion\n",
        "    if getattr(ds, \"PhotometricInterpretation\", \"\") == \"MONOCHROME1\":\n",
        "        arr = np.max(arr) - arr\n",
        "\n",
        "    arr = arr.astype(np.float32)\n",
        "    arr -= arr.min()\n",
        "    if arr.max() > 0:\n",
        "        arr /= arr.max()\n",
        "    arr = (arr * 255.0).clip(0,255).astype(np.uint8)\n",
        "\n",
        "    # Optional: resize to something reasonable (e.g., 1024px max side)\n",
        "    h, w = arr.shape[:2]\n",
        "    max_side = 1024\n",
        "    if max(h,w) > max_side:\n",
        "        scale = max_side / max(h,w)\n",
        "        arr = np.array(Image.fromarray(arr).resize((int(w*scale), int(h*scale)), Image.LANCZOS))\n",
        "\n",
        "    img = Image.fromarray(arr, mode=\"L\")\n",
        "    out_path = out_dir / (dcm_path.stem + \".jpg\")\n",
        "    img.save(out_path, quality=95)\n",
        "    return out_path\n",
        "\n",
        "# find dicoms, convert first ~200\n",
        "dcm_paths = list(DICOM_DIR.rglob(\"*.[dD][cC][mM]\"))\n",
        "dcm_paths = dcm_paths[:200] if len(dcm_paths) > 200 else dcm_paths\n",
        "jpg_paths = [dicom_to_jpg(p, IMG_DIR) for p in dcm_paths]\n",
        "len(jpg_paths), jpg_paths[:3]\n"
      ],
      "metadata": {
        "id": "fnmTlacT9Tz8"
      },
      "id": "fnmTlacT9Tz8",
      "execution_count": null,
      "outputs": []
    },
    {
      "cell_type": "code",
      "source": [
        "\n",
        "\n",
        "# step 1: Setup constant\n",
        "model_name = \"StanfordAIMI/CheXagent-2-3b\"\n",
        "dtype = torch.bfloat16\n",
        "device = \"cuda\"\n"
      ],
      "metadata": {
        "id": "nsZczvJ19KRv"
      },
      "id": "nsZczvJ19KRv",
      "execution_count": null,
      "outputs": []
    }
  ],
  "metadata": {
    "language_info": {
      "name": "python"
    },
    "colab": {
      "provenance": []
    },
    "kernelspec": {
      "name": "python3",
      "display_name": "Python 3"
    }
  },
  "nbformat": 4,
  "nbformat_minor": 5
}