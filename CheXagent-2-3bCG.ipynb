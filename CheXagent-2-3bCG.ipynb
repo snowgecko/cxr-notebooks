{
 "cells": [
  {
   "cell_type": "code",
   "execution_count": null,
   "id": "0",
   "metadata": {
    "id": "0",
    "vscode": {
     "languageId": "plaintext"
    }
   },
   "outputs": [],
   "source": [
    "START"
   ]
  },
  {
   "cell_type": "code",
   "execution_count": null,
   "id": "1",
   "metadata": {
    "colab": {
     "base_uri": "https://localhost:8080/"
    },
    "id": "1",
    "outputId": "bc078ba1-4031-4ee3-96cb-393b1afd63d4",
    "vscode": {
     "languageId": "plaintext"
    }
   },
   "outputs": [],
   "source": [
    "!pip -q install \"transformers>=4.41\" peft bitsandbytes accelerate datasets sentencepiece einops pydicom pillow\n",
    "\n",
    "import os, re, shutil, math, random\n",
    "from pathlib import Path\n",
    "\n",
    "import numpy as np\n",
    "import pandas as pd\n",
    "from PIL import Image\n",
    "\n",
    "import torch\n",
    "from datasets import Dataset\n",
    "from transformers import (\n",
    "    AutoTokenizer, AutoModelForCausalLM,\n",
    "    TrainingArguments, Trainer\n",
    ")\n",
    "from peft import LoraConfig, get_peft_model, prepare_model_for_kbit_training\n",
    "\n",
    "import pydicom\n",
    "from pydicom.pixel_data_handlers.util import apply_voi_lut\n",
    "\n"
   ]
  },
  {
   "cell_type": "code",
   "execution_count": null,
   "id": "2",
   "metadata": {
    "id": "2",
    "vscode": {
     "languageId": "plaintext"
    }
   },
   "outputs": [],
   "source": [
    "####Mount the drive\n",
    "################ attach the colab project to the google drive\n",
    "from google.colab import drive\n",
    "drive.mount('/content/drive')\n",
    "\n",
    "from pathlib import Path\n",
    "ROOT        = Path('/content/drive/MyDrive/MLProjects/foundation-models-radiology')\n",
    "DICOM_DIR   = ROOT / 'PTXHeadtoHeadSmall'   # use the exact folder name as on Drive\n",
    "IMG_DIR     = ROOT / \"chex_jpg\"                   # where we'll write JPEGs\n",
    "CSV_PATH    = ROOT / \"labels_200.csv\"             # your instruction CSV (image,question,answer)\n",
    "\n",
    "print(\"exists:\", DICOM_DIR.exists())\n"
   ]
  },
  {
   "cell_type": "code",
   "execution_count": null,
   "id": "3",
   "metadata": {
    "id": "45NwAUwr8dbV"
   },
   "outputs": [],
   "source": [
    "################ Global variables\n",
    "MODEL_NAME = \"StanfordAIMI/CheXagent-2-3b\"\n",
    "SEED = 42\n",
    "random.seed(SEED); np.random.seed(SEED); torch.manual_seed(SEED)\n"
   ]
  }
 ],
 "metadata": {
  "colab": {
   "provenance": []
  },
  "kernelspec": {
   "display_name": "Python 3",
   "name": "python3"
  },
  "language_info": {
   "name": "python"
  }
 },
 "nbformat": 4,
 "nbformat_minor": 5
}
