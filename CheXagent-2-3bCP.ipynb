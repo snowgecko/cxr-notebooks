{
 "cells": [
  {
   "cell_type": "code",
   "execution_count": null,
   "id": "0",
   "metadata": {
    "colab": {
     "base_uri": "https://localhost:8080/"
    },
    "id": "kts_kbpaIH08",
    "outputId": "1e35e057-f554-40e8-f136-9d8656ceccb2"
   },
   "outputs": [],
   "source": [
    "!pip install transformers==4.40.0\n"
   ]
  },
  {
   "cell_type": "code",
   "execution_count": null,
   "id": "1",
   "metadata": {
    "colab": {
     "base_uri": "https://localhost:8080/",
     "height": 87,
     "referenced_widgets": [
      "e11ab81b2baf48ebaa50f651d81303ff",
      "78e24b6cc1b84463b123437d70349dfa",
      "81bd765984414bb8a8546f7beb955603",
      "b8fa1ab65f304e97b1471d759553e5f6",
      "0fedad0252754c3f9663b5671a402a73",
      "e898bfcc1a8f4812a191d23a7039b7ee",
      "e0711e7c557f439395ad21d10ed09867",
      "c770513ce31e4ace90433aba7c5a7868",
      "8476726d5af8461ba8a3d551960eaac9",
      "1c8a79f28767469982b1e00e0e00e752",
      "232347f93d6e411daa54e1d380072a7b"
     ]
    },
    "id": "0",
    "outputId": "7127c26f-9619-4432-8341-b1cdb878986f",
    "vscode": {
     "languageId": "plaintext"
    }
   },
   "outputs": [],
   "source": [
    "# Install dependencies\n",
    "!pip install -q torch torchvision pydicom opencv-python Pillow accelerate\n",
    "\n",
    "#Imports\n",
    "import os, glob\n",
    "import torch\n",
    "import pydicom\n",
    "import cv2\n",
    "from PIL import Image\n",
    "from pathlib import Path\n",
    "from transformers import AutoTokenizer, AutoModelForCausalLM\n",
    "\n"
   ]
  },
  {
   "cell_type": "code",
   "execution_count": null,
   "id": "2",
   "metadata": {
    "colab": {
     "base_uri": "https://localhost:8080/",
     "height": 1000,
     "referenced_widgets": [
      "354c9feb76e54bc1bc2716744e6fd055",
      "debf63210edc4e049726c233eae4dc81",
      "a1af7c13527246f79dea100c9f0de9ae",
      "2d23711fdb8b419298d0cb3aa394c44e",
      "030a2cf7d3014854b623e2a0bbff242f",
      "a1a50c1f52964084bbb1781e64607fc8",
      "c903e6c0186f4805bc0eaa82d5f53d36",
      "cb9805b90b404b83aa7a95d4585268f3",
      "25eceafe539d44c29168a165a7794dbe",
      "3077d735bf1543d09aa659ff32d186b1",
      "77f679ff7b9d44c0ab64515f4fd5fc71"
     ]
    },
    "id": "Oclhf1GmOKxB",
    "outputId": "98dd196d-df3b-47b0-cacb-f87f11c27c8d"
   },
   "outputs": [],
   "source": [
    "from transformers import AutoTokenizer, AutoModelForCausalLM\n",
    "\n",
    "model_name = \"StanfordAIMI/CheXagent-2-3b\"\n",
    "tokenizer = AutoTokenizer.from_pretrained(model_name, trust_remote_code=True)\n",
    "\n",
    "model = AutoModelForCausalLM.from_pretrained(\n",
    "    model_name,\n",
    "    device_map=\"auto\",\n",
    "    trust_remote_code=True,\n",
    "    torch_dtype=torch.bfloat16 if torch.cuda.is_available() else torch.float32,\n",
    "    low_cpu_mem_usage=True\n",
    ")\n",
    "###########seems to thin that calling the if torch.cudo.is_available() as a param should work!!\n",
    "model.eval()\n",
    "# Define query\n",
    "question = \"Does this chest X-ray show a pneumothorax?\"\n"
   ]
  },
  {
   "cell_type": "code",
   "execution_count": null,
   "id": "3",
   "metadata": {
    "colab": {
     "base_uri": "https://localhost:8080/"
    },
    "id": "uUCGwVYmO9lU",
    "outputId": "056e7ea9-d236-4b43-d4f9-708f70a1ac73"
   },
   "outputs": [],
   "source": [
    "for name, param in model.named_parameters():\n",
    "    if param.device.type == \"meta\":\n",
    "        print(f\"{name} is on the meta device\")"
   ]
  },
  {
   "cell_type": "code",
   "execution_count": null,
   "id": "4",
   "metadata": {
    "colab": {
     "base_uri": "https://localhost:8080/"
    },
    "id": "zLMwuflKNJzM",
    "outputId": "4706b8eb-9577-4d72-c563-0c5166ff0a8b"
   },
   "outputs": [],
   "source": [
    "# attach the colab project to teh files\n",
    "from google.colab import drive\n",
    "drive.mount('/content/drive')"
   ]
  },
  {
   "cell_type": "code",
   "execution_count": null,
   "id": "5",
   "metadata": {
    "colab": {
     "base_uri": "https://localhost:8080/"
    },
    "id": "_ooUdS6GHTjb",
    "outputId": "1ee993a2-33f0-4566-d674-273710acb90e"
   },
   "outputs": [],
   "source": [
    "#Set paths\n",
    "from pathlib import Path\n",
    "ROOT = Path('/content/drive/MyDrive/MLProjects/foundation-models-radiology')\n",
    "DICOM_DIR = ROOT / 'PTXHeadtoHeadSmall'   # use the exact folder name as on Drive\n",
    "print(\"exists:\", ROOT.exists())\n",
    "\n",
    "#ROOT = Path(\"/content/drive/MyDrive\")  # adjust if needed\n",
    "#DICOM_DIR = ROOT / \"PTXHeadtoHeadSmall\"\n",
    "JPEG_DIR = Path(\"/content/drive/MyDrive/MLProjects/foundation-models-radiology/cxr_jpegs\")\n",
    "JPEG_DIR.mkdir(exist_ok=True)\n"
   ]
  },
  {
   "cell_type": "code",
   "execution_count": null,
   "id": "6",
   "metadata": {
    "colab": {
     "base_uri": "https://localhost:8080/"
    },
    "id": "AvPGzs3iHV4j",
    "outputId": "ffb71804-7562-4f94-f7b2-a3aedb64ba6c"
   },
   "outputs": [],
   "source": [
    "# Convert DICOMs to JPEGs\n",
    "def dicom_to_jpeg(dicom_path, jpeg_path):\n",
    "    ds = pydicom.dcmread(str(dicom_path))\n",
    "    img = ds.pixel_array\n",
    "    img = cv2.normalize(img, None, 0, 255, cv2.NORM_MINMAX).astype('uint8')\n",
    "    img = cv2.equalizeHist(img)  # optional contrast enhancement\n",
    "    cv2.imwrite(str(jpeg_path), img)\n",
    "\n",
    "# Batch convert\n",
    "#dicom_paths = list(DICOM_DIR.rglob(\"*.dcm\"))\n",
    "# find DICOMs (case-insensitive .dcm)\n",
    "dicom_paths = list(DICOM_DIR.rglob('*.[dD][cC][mM]'))\n",
    "print(\"count:\", len(dicom_paths))\n",
    "print(\"samples:\", dicom_paths[:5])\n",
    "\n",
    "jpeg_paths = []\n",
    "for dcm_path in dicom_paths:\n",
    "    jpg_path = JPEG_DIR / f\"{dcm_path.stem}.jpg\"\n",
    "    dicom_to_jpeg(dcm_path, jpg_path)\n",
    "    jpeg_paths.append(str(jpg_path))\n"
   ]
  },
  {
   "cell_type": "code",
   "execution_count": null,
   "id": "7",
   "metadata": {
    "colab": {
     "base_uri": "https://localhost:8080/",
     "height": 1000,
     "referenced_widgets": [
      "5e34906a93e34a7cb2d56e69d2d32f7f",
      "dd9f0dc8c5794c2d8b24caeccd5d92c1",
      "91acd170cf434a07b59b1916d3541df8",
      "c2af4b54c8fc48649c7de1c8bccedd53",
      "70b8d718ba924d17b155d8910e1dc35c",
      "1d1b0ad9a40d49d88acb444b56a683c2",
      "695b4715c93f454ba3c3dc70f525d796",
      "26ab22d51a1e4e8bbd534226c5b89ec5",
      "d87bf82184db4bda95445e3851108799",
      "dbb37dea7d1f41c08028eb9b4c83c149",
      "9d26e50743bd421e93317f1a45a2efaf",
      "e45bcc4b4c9544eda576e792d873a48a",
      "abf90652ed24433c82cd4221a187461c",
      "f7a5d593588e4212b2211dd8260fd384",
      "d632982d01034a088782d4d7b537742a",
      "892a6b0bbf3642468b9950e222dd85e4",
      "4c31b030c10344a9b530700e2dc0271d",
      "1ec9d7c26ab54d14b1ff6fa097a7f0f9",
      "1035b8953058477ea750b5f2d6c96eee",
      "d31e88ff6df7423e98c9cee7dae89ae8",
      "9340adea6a3740cdb1950225e9b66abd",
      "f60baa6b1c9f425796bab24a5ece6dbd"
     ]
    },
    "id": "mgKo7d1kHa-Y",
    "outputId": "1d5d3bd7-b35f-4d53-f20d-463cfb8e4d90"
   },
   "outputs": [],
   "source": [
    "# Load CheXagent-2-3b\n"
   ]
  },
  {
   "cell_type": "code",
   "execution_count": null,
   "id": "8",
   "metadata": {
    "id": "pqQTTwQZHeaY"
   },
   "outputs": [],
   "source": [
    "# Run inference on each image\n",
    "def ask_chexagent(image_path, question):\n",
    "    query = tokenizer.from_list_format([\n",
    "        {\"image\": image_path},\n",
    "        {\"text\": question}\n",
    "    ])\n",
    "    conversation = [\n",
    "        {\"from\": \"system\", \"value\": \"You are a helpful assistant.\"},\n",
    "        {\"from\": \"human\", \"value\": query}\n",
    "    ]\n",
    "    input_ids = tokenizer.apply_chat_template(\n",
    "        conversation,\n",
    "        add_generation_prompt=True,\n",
    "        return_tensors=\"pt\"\n",
    "    ).to(device)\n",
    "\n",
    "    output = model.generate(\n",
    "        input_ids,\n",
    "        do_sample=False,\n",
    "        num_beams=1,\n",
    "        temperature=1.0,\n",
    "        top_p=1.0,\n",
    "        use_cache=True,\n",
    "        max_new_tokens=128\n",
    "    )[0]\n",
    "\n",
    "    response = tokenizer.decode(output[input_ids.size(1):-1])\n",
    "    return response.strip()"
   ]
  },
  {
   "cell_type": "code",
   "execution_count": null,
   "id": "9",
   "metadata": {
    "colab": {
     "base_uri": "https://localhost:8080/",
     "height": 420
    },
    "id": "xZq4ckQ4Kqor",
    "outputId": "fdbcdda5-10fa-43d7-c897-7fd9e8eda6f6"
   },
   "outputs": [],
   "source": [
    "# Run on all images and collect responses\n",
    "results = []\n",
    "for path in jpeg_paths:\n",
    "    answer = ask_chexagent(path, question)\n",
    "    results.append((path, answer))\n",
    "    print(f\" {Path(path).name} → {answer}\")\n"
   ]
  }
 ],
 "metadata": {
  "colab": {
   "provenance": []
  },
  "kernelspec": {
   "display_name": "Python 3",
   "name": "python3"
  },
  "language_info": {
   "name": "python"
  }
 },
 "nbformat": 4,
 "nbformat_minor": 5
}
